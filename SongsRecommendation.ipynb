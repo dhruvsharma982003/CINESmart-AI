{
 "cells": [
  {
   "cell_type": "code",
   "execution_count": 1,
   "id": "2c7261c5",
   "metadata": {},
   "outputs": [],
   "source": [
    "import pandas as pd\n",
    "import numpy as np"
   ]
  },
  {
   "cell_type": "code",
   "execution_count": 2,
   "id": "6c47f94b",
   "metadata": {},
   "outputs": [],
   "source": [
    "df = pd.read_csv('Songs Dataset.csv')"
   ]
  },
  {
   "cell_type": "code",
   "execution_count": 3,
   "id": "5fb0a96f",
   "metadata": {},
   "outputs": [
    {
     "data": {
      "text/html": [
       "<div>\n",
       "<style scoped>\n",
       "    .dataframe tbody tr th:only-of-type {\n",
       "        vertical-align: middle;\n",
       "    }\n",
       "\n",
       "    .dataframe tbody tr th {\n",
       "        vertical-align: top;\n",
       "    }\n",
       "\n",
       "    .dataframe thead th {\n",
       "        text-align: right;\n",
       "    }\n",
       "</style>\n",
       "<table border=\"1\" class=\"dataframe\">\n",
       "  <thead>\n",
       "    <tr style=\"text-align: right;\">\n",
       "      <th></th>\n",
       "      <th>artist</th>\n",
       "      <th>song</th>\n",
       "      <th>link</th>\n",
       "      <th>text</th>\n",
       "    </tr>\n",
       "  </thead>\n",
       "  <tbody>\n",
       "    <tr>\n",
       "      <th>0</th>\n",
       "      <td>ABBA</td>\n",
       "      <td>Ahe's My Kind Of Girl</td>\n",
       "      <td>/a/abba/ahes+my+kind+of+girl_20598417.html</td>\n",
       "      <td>Look at her face, it's a wonderful face  \\r\\nA...</td>\n",
       "    </tr>\n",
       "    <tr>\n",
       "      <th>1</th>\n",
       "      <td>ABBA</td>\n",
       "      <td>Andante, Andante</td>\n",
       "      <td>/a/abba/andante+andante_20002708.html</td>\n",
       "      <td>Take it easy with me, please  \\r\\nTouch me gen...</td>\n",
       "    </tr>\n",
       "    <tr>\n",
       "      <th>2</th>\n",
       "      <td>ABBA</td>\n",
       "      <td>As Good As New</td>\n",
       "      <td>/a/abba/as+good+as+new_20003033.html</td>\n",
       "      <td>I'll never know why I had to go  \\r\\nWhy I had...</td>\n",
       "    </tr>\n",
       "    <tr>\n",
       "      <th>3</th>\n",
       "      <td>ABBA</td>\n",
       "      <td>Bang</td>\n",
       "      <td>/a/abba/bang_20598415.html</td>\n",
       "      <td>Making somebody happy is a question of give an...</td>\n",
       "    </tr>\n",
       "    <tr>\n",
       "      <th>4</th>\n",
       "      <td>ABBA</td>\n",
       "      <td>Bang-A-Boomerang</td>\n",
       "      <td>/a/abba/bang+a+boomerang_20002668.html</td>\n",
       "      <td>Making somebody happy is a question of give an...</td>\n",
       "    </tr>\n",
       "  </tbody>\n",
       "</table>\n",
       "</div>"
      ],
      "text/plain": [
       "  artist                   song                                        link  \\\n",
       "0   ABBA  Ahe's My Kind Of Girl  /a/abba/ahes+my+kind+of+girl_20598417.html   \n",
       "1   ABBA       Andante, Andante       /a/abba/andante+andante_20002708.html   \n",
       "2   ABBA         As Good As New        /a/abba/as+good+as+new_20003033.html   \n",
       "3   ABBA                   Bang                  /a/abba/bang_20598415.html   \n",
       "4   ABBA       Bang-A-Boomerang      /a/abba/bang+a+boomerang_20002668.html   \n",
       "\n",
       "                                                text  \n",
       "0  Look at her face, it's a wonderful face  \\r\\nA...  \n",
       "1  Take it easy with me, please  \\r\\nTouch me gen...  \n",
       "2  I'll never know why I had to go  \\r\\nWhy I had...  \n",
       "3  Making somebody happy is a question of give an...  \n",
       "4  Making somebody happy is a question of give an...  "
      ]
     },
     "execution_count": 3,
     "metadata": {},
     "output_type": "execute_result"
    }
   ],
   "source": [
    "df.head(5)"
   ]
  },
  {
   "cell_type": "code",
   "execution_count": 4,
   "id": "ab4b281c",
   "metadata": {},
   "outputs": [
    {
     "data": {
      "text/html": [
       "<div>\n",
       "<style scoped>\n",
       "    .dataframe tbody tr th:only-of-type {\n",
       "        vertical-align: middle;\n",
       "    }\n",
       "\n",
       "    .dataframe tbody tr th {\n",
       "        vertical-align: top;\n",
       "    }\n",
       "\n",
       "    .dataframe thead th {\n",
       "        text-align: right;\n",
       "    }\n",
       "</style>\n",
       "<table border=\"1\" class=\"dataframe\">\n",
       "  <thead>\n",
       "    <tr style=\"text-align: right;\">\n",
       "      <th></th>\n",
       "      <th>artist</th>\n",
       "      <th>song</th>\n",
       "      <th>link</th>\n",
       "      <th>text</th>\n",
       "    </tr>\n",
       "  </thead>\n",
       "  <tbody>\n",
       "    <tr>\n",
       "      <th>57645</th>\n",
       "      <td>Ziggy Marley</td>\n",
       "      <td>Good Old Days</td>\n",
       "      <td>/z/ziggy+marley/good+old+days_10198588.html</td>\n",
       "      <td>Irie days come on play  \\r\\nLet the angels fly...</td>\n",
       "    </tr>\n",
       "    <tr>\n",
       "      <th>57646</th>\n",
       "      <td>Ziggy Marley</td>\n",
       "      <td>Hand To Mouth</td>\n",
       "      <td>/z/ziggy+marley/hand+to+mouth_20531167.html</td>\n",
       "      <td>Power to the workers  \\r\\nMore power  \\r\\nPowe...</td>\n",
       "    </tr>\n",
       "    <tr>\n",
       "      <th>57647</th>\n",
       "      <td>Zwan</td>\n",
       "      <td>Come With Me</td>\n",
       "      <td>/z/zwan/come+with+me_20148981.html</td>\n",
       "      <td>all you need  \\r\\nis something i'll believe  \\...</td>\n",
       "    </tr>\n",
       "    <tr>\n",
       "      <th>57648</th>\n",
       "      <td>Zwan</td>\n",
       "      <td>Desire</td>\n",
       "      <td>/z/zwan/desire_20148986.html</td>\n",
       "      <td>northern star  \\r\\nam i frightened  \\r\\nwhere ...</td>\n",
       "    </tr>\n",
       "    <tr>\n",
       "      <th>57649</th>\n",
       "      <td>Zwan</td>\n",
       "      <td>Heartsong</td>\n",
       "      <td>/z/zwan/heartsong_20148991.html</td>\n",
       "      <td>come in  \\r\\nmake yourself at home  \\r\\ni'm a ...</td>\n",
       "    </tr>\n",
       "  </tbody>\n",
       "</table>\n",
       "</div>"
      ],
      "text/plain": [
       "             artist           song  \\\n",
       "57645  Ziggy Marley  Good Old Days   \n",
       "57646  Ziggy Marley  Hand To Mouth   \n",
       "57647          Zwan   Come With Me   \n",
       "57648          Zwan         Desire   \n",
       "57649          Zwan      Heartsong   \n",
       "\n",
       "                                              link  \\\n",
       "57645  /z/ziggy+marley/good+old+days_10198588.html   \n",
       "57646  /z/ziggy+marley/hand+to+mouth_20531167.html   \n",
       "57647           /z/zwan/come+with+me_20148981.html   \n",
       "57648                 /z/zwan/desire_20148986.html   \n",
       "57649              /z/zwan/heartsong_20148991.html   \n",
       "\n",
       "                                                    text  \n",
       "57645  Irie days come on play  \\r\\nLet the angels fly...  \n",
       "57646  Power to the workers  \\r\\nMore power  \\r\\nPowe...  \n",
       "57647  all you need  \\r\\nis something i'll believe  \\...  \n",
       "57648  northern star  \\r\\nam i frightened  \\r\\nwhere ...  \n",
       "57649  come in  \\r\\nmake yourself at home  \\r\\ni'm a ...  "
      ]
     },
     "execution_count": 4,
     "metadata": {},
     "output_type": "execute_result"
    }
   ],
   "source": [
    "df.tail(5)"
   ]
  },
  {
   "cell_type": "code",
   "execution_count": 5,
   "id": "98d8ef52",
   "metadata": {},
   "outputs": [
    {
     "data": {
      "text/plain": [
       "(57650, 4)"
      ]
     },
     "execution_count": 5,
     "metadata": {},
     "output_type": "execute_result"
    }
   ],
   "source": [
    "df.shape"
   ]
  },
  {
   "cell_type": "code",
   "execution_count": 6,
   "id": "19d95fcf",
   "metadata": {},
   "outputs": [
    {
     "data": {
      "text/plain": [
       "artist    0\n",
       "song      0\n",
       "link      0\n",
       "text      0\n",
       "dtype: int64"
      ]
     },
     "execution_count": 6,
     "metadata": {},
     "output_type": "execute_result"
    }
   ],
   "source": [
    "df.isnull().sum()"
   ]
  },
  {
   "cell_type": "code",
   "execution_count": 7,
   "id": "39020def",
   "metadata": {},
   "outputs": [],
   "source": [
    "df =df.sample(5000).drop('link', axis=1).reset_index(drop=True)"
   ]
  },
  {
   "cell_type": "code",
   "execution_count": 8,
   "id": "54977564",
   "metadata": {},
   "outputs": [
    {
     "data": {
      "text/html": [
       "<div>\n",
       "<style scoped>\n",
       "    .dataframe tbody tr th:only-of-type {\n",
       "        vertical-align: middle;\n",
       "    }\n",
       "\n",
       "    .dataframe tbody tr th {\n",
       "        vertical-align: top;\n",
       "    }\n",
       "\n",
       "    .dataframe thead th {\n",
       "        text-align: right;\n",
       "    }\n",
       "</style>\n",
       "<table border=\"1\" class=\"dataframe\">\n",
       "  <thead>\n",
       "    <tr style=\"text-align: right;\">\n",
       "      <th></th>\n",
       "      <th>artist</th>\n",
       "      <th>song</th>\n",
       "      <th>text</th>\n",
       "    </tr>\n",
       "  </thead>\n",
       "  <tbody>\n",
       "    <tr>\n",
       "      <th>0</th>\n",
       "      <td>Bob Dylan</td>\n",
       "      <td>Floater</td>\n",
       "      <td>Down over the window  \\r\\nFrom the dazzling su...</td>\n",
       "    </tr>\n",
       "    <tr>\n",
       "      <th>1</th>\n",
       "      <td>Willie Nelson</td>\n",
       "      <td>A New Way To Cry</td>\n",
       "      <td>All my tears have fallen, I can cry no more.  ...</td>\n",
       "    </tr>\n",
       "    <tr>\n",
       "      <th>2</th>\n",
       "      <td>Waylon Jennings</td>\n",
       "      <td>Grey Eyes You Know</td>\n",
       "      <td>That cold north wind is blowing grey eyes you ...</td>\n",
       "    </tr>\n",
       "    <tr>\n",
       "      <th>3</th>\n",
       "      <td>Great Big Sea</td>\n",
       "      <td>Dance, Dance</td>\n",
       "      <td>Friday night, seventeen  \\r\\nGot my hands on t...</td>\n",
       "    </tr>\n",
       "    <tr>\n",
       "      <th>4</th>\n",
       "      <td>Olivia Newton-John</td>\n",
       "      <td>Gaia</td>\n",
       "      <td>(Olivia Newton-John)  \\r\\nI am your mother--bo...</td>\n",
       "    </tr>\n",
       "    <tr>\n",
       "      <th>5</th>\n",
       "      <td>Offspring</td>\n",
       "      <td>Come Out Swing</td>\n",
       "      <td>You brace and hold it all inside  \\r\\nIt's mor...</td>\n",
       "    </tr>\n",
       "    <tr>\n",
       "      <th>6</th>\n",
       "      <td>Perry Como</td>\n",
       "      <td>Lollipops And Roses</td>\n",
       "      <td>Tell her you care, each time you speak  \\r\\nMa...</td>\n",
       "    </tr>\n",
       "    <tr>\n",
       "      <th>7</th>\n",
       "      <td>Within Temptation</td>\n",
       "      <td>Forgiven</td>\n",
       "      <td>Couldn't save you from the start  \\r\\nLove you...</td>\n",
       "    </tr>\n",
       "    <tr>\n",
       "      <th>8</th>\n",
       "      <td>Utada Hikaru</td>\n",
       "      <td>Another Chance</td>\n",
       "      <td>I'm playing back  \\r\\nThe melody you hummed  \\...</td>\n",
       "    </tr>\n",
       "    <tr>\n",
       "      <th>9</th>\n",
       "      <td>John Mellencamp</td>\n",
       "      <td>Suzanne And The Jewels</td>\n",
       "      <td>Suzanne was the jewel keeper  \\r\\nIn a word sh...</td>\n",
       "    </tr>\n",
       "  </tbody>\n",
       "</table>\n",
       "</div>"
      ],
      "text/plain": [
       "               artist                    song  \\\n",
       "0           Bob Dylan                 Floater   \n",
       "1       Willie Nelson        A New Way To Cry   \n",
       "2     Waylon Jennings      Grey Eyes You Know   \n",
       "3       Great Big Sea            Dance, Dance   \n",
       "4  Olivia Newton-John                    Gaia   \n",
       "5           Offspring          Come Out Swing   \n",
       "6          Perry Como     Lollipops And Roses   \n",
       "7   Within Temptation                Forgiven   \n",
       "8        Utada Hikaru          Another Chance   \n",
       "9     John Mellencamp  Suzanne And The Jewels   \n",
       "\n",
       "                                                text  \n",
       "0  Down over the window  \\r\\nFrom the dazzling su...  \n",
       "1  All my tears have fallen, I can cry no more.  ...  \n",
       "2  That cold north wind is blowing grey eyes you ...  \n",
       "3  Friday night, seventeen  \\r\\nGot my hands on t...  \n",
       "4  (Olivia Newton-John)  \\r\\nI am your mother--bo...  \n",
       "5  You brace and hold it all inside  \\r\\nIt's mor...  \n",
       "6  Tell her you care, each time you speak  \\r\\nMa...  \n",
       "7  Couldn't save you from the start  \\r\\nLove you...  \n",
       "8  I'm playing back  \\r\\nThe melody you hummed  \\...  \n",
       "9  Suzanne was the jewel keeper  \\r\\nIn a word sh...  "
      ]
     },
     "execution_count": 8,
     "metadata": {},
     "output_type": "execute_result"
    }
   ],
   "source": [
    "df.head(10)"
   ]
  },
  {
   "cell_type": "code",
   "execution_count": 9,
   "id": "376c1e7e",
   "metadata": {},
   "outputs": [
    {
     "data": {
      "text/plain": [
       "\"Down over the window  \\r\\nFrom the dazzling sunlit rays  \\r\\nThrough the back alleys, through the blinds  \\r\\nAnother one of them endless days  \\r\\n  \\r\\nHoney bees are buzzing  \\r\\nLeaves begin to stir  \\r\\nI'm in love with my second cousin  \\r\\nI tell myself I could be happy forever with her  \\r\\n  \\r\\nI keep listening for footsteps  \\r\\nBut I ain't never hearing any  \\r\\nFrom the boat, I fish for bullheads  \\r\\nI catch a lot, sometimes too many  \\r\\n  \\r\\nA summer breeze is blowin'  \\r\\nA squall is setting in  \\r\\nSometimes it's just plain stupid  \\r\\nTo get into any kind of wind  \\r\\n  \\r\\nWell the old men 'round here  \\r\\nSometimes they get on bad terms  \\r\\nWith the younger men,  \\r\\nOld, young, age don't carry weight  \\r\\nIt doesn't matter in the end  \\r\\n  \\r\\nOne of the boss' hangers-on  \\r\\nSometimes comes to call  \\r\\nAt times you least expect  \\r\\nTryin' to bully you, strongarm you,  \\r\\nInspire you with fear  \\r\\nIt has the opposite effect  \\r\\n  \\r\\nThere's a new grove of trees on the outskirts of town  \\r\\nThe old one is long gone  \\r\\n10 foot, 2 foot, 6 across  \\r\\nBurns with the bark still on  \\r\\n  \\r\\nThey say times are hard  \\r\\nIf you don't believe it you can follow your nose  \\r\\nIt don't bother me, times are hard anywhere  \\r\\nWe'll just have to see how it goes  \\r\\n  \\r\\nMy old man, he's like some feudal lord  \\r\\nHe's got more lives than a cat  \\r\\nI've never seen him quarrel with my mother even once  \\r\\nThings come alive or they fall flat  \\r\\n  \\r\\nYou can smell the pine wood burnin'  \\r\\nYou can hear the school bell ring  \\r\\nGot to get up near the teacher, if you can  \\r\\nIf you wanna learn anything  \\r\\n  \\r\\nRomeo, he said to Juliet, you got a poor complexion  \\r\\nIt don't give you an appearance or a youthful touch  \\r\\nJuliet said back to Romeo,  \\r\\nWhy don't you just shove off,  \\r\\nIf it bothers you so much  \\r\\n  \\r\\nThey got outta here any way they could  \\r\\nCold rain can give you the shivers  \\r\\nThey went down the Ohio, the Cumberland, the Tennessee,  \\r\\nAll the rest of them rebel rivers  \\r\\n  \\r\\nIf you ever try to interfere with me  \\r\\nOr cross my path again,  \\r\\nYou do so at the peril of your life  \\r\\nI'm not quite as cool, or forgiving as I sound  \\r\\nI've seen enough heartache and strife  \\r\\n  \\r\\nMy grandfather was a duck trapper,  \\r\\nHe could do it with just dragnets and ropes [?]  \\r\\nMy grandmother could sew new dresses out of old cloth,  \\r\\nI don't know if they had any dreams or hopes.  \\r\\n  \\r\\nI had 'em once, though I suppose  \\r\\nTo go along with all the ring dancing,  \\r\\nChristmas carols and all the Christmas eves  \\r\\nI left all my dreams and hopes  \\r\\nBuried under tobacco leaves  \\r\\n  \\r\\nNot always easy kicking someone up  \\r\\nGot to wait awhile, it can be an unpleasant task  \\r\\nSometimes somebody wants you to give something up  \\r\\nAnd tears or not, it's too much to ask.\\r\\n\\r\\n\""
      ]
     },
     "execution_count": 9,
     "metadata": {},
     "output_type": "execute_result"
    }
   ],
   "source": [
    "df['text'][0]"
   ]
  },
  {
   "cell_type": "code",
   "execution_count": 10,
   "id": "fa18fda1",
   "metadata": {},
   "outputs": [
    {
     "data": {
      "text/plain": [
       "(5000, 3)"
      ]
     },
     "execution_count": 10,
     "metadata": {},
     "output_type": "execute_result"
    }
   ],
   "source": [
    "df.shape"
   ]
  },
  {
   "cell_type": "markdown",
   "id": "3d6a5de8",
   "metadata": {},
   "source": [
    "Text Cleaning/ Text Preprocessing"
   ]
  },
  {
   "cell_type": "code",
   "execution_count": 11,
   "id": "eb0b1451",
   "metadata": {},
   "outputs": [],
   "source": [
    "df['text'] = df['text'].str.lower().replace(r'^\\w\\s', ' ').replace(r'\\n', ' ', regex = True)"
   ]
  },
  {
   "cell_type": "code",
   "execution_count": 12,
   "id": "aaf61297",
   "metadata": {},
   "outputs": [],
   "source": [
    "import nltk \n",
    "from nltk.stem.porter import PorterStemmer\n",
    "stemmer = PorterStemmer()\n",
    "\n",
    "def tokenization(txt):\n",
    "    tokens = nltk.word_tokenize(txt)\n",
    "    stemming = [stemmer.stem(w) for w in tokens]\n",
    "    return \" \".join(stemming)"
   ]
  },
  {
   "cell_type": "code",
   "execution_count": 13,
   "id": "2371b48e",
   "metadata": {},
   "outputs": [
    {
     "name": "stderr",
     "output_type": "stream",
     "text": [
      "[nltk_data] Downloading package punkt to\n",
      "[nltk_data]     C:\\Users\\Hp\\AppData\\Roaming\\nltk_data...\n",
      "[nltk_data]   Package punkt is already up-to-date!\n",
      "[nltk_data] Downloading package punkt_tab to\n",
      "[nltk_data]     C:\\Users\\Hp\\AppData\\Roaming\\nltk_data...\n",
      "[nltk_data]   Package punkt_tab is already up-to-date!\n"
     ]
    }
   ],
   "source": [
    "import nltk\n",
    "nltk.download('punkt')\n",
    "nltk.download('punkt_tab')  # Download the missing resource\n",
    "\n",
    "df['text'] = df['text'].apply(lambda x: tokenization(x))"
   ]
  },
  {
   "cell_type": "code",
   "execution_count": 14,
   "id": "0130df21",
   "metadata": {},
   "outputs": [],
   "source": [
    "from sklearn.feature_extraction.text import TfidfVectorizer\n",
    "from sklearn.metrics.pairwise import cosine_similarity"
   ]
  },
  {
   "cell_type": "code",
   "execution_count": 15,
   "id": "8d0c1220",
   "metadata": {},
   "outputs": [],
   "source": [
    "tfidvector = TfidfVectorizer(analyzer='word',stop_words='english')\n",
    "matrix = tfidvector.fit_transform(df['text'])\n",
    "similarity = cosine_similarity(matrix)"
   ]
  },
  {
   "cell_type": "code",
   "execution_count": 16,
   "id": "e30a69d0",
   "metadata": {},
   "outputs": [
    {
     "data": {
      "text/plain": [
       "array([1.        , 0.10294309, 0.03772765, ..., 0.02796238, 0.02204089,\n",
       "       0.05132841], shape=(5000,))"
      ]
     },
     "execution_count": 16,
     "metadata": {},
     "output_type": "execute_result"
    }
   ],
   "source": [
    "similarity[0]"
   ]
  },
  {
   "cell_type": "code",
   "execution_count": 32,
   "id": "e72fdcf7",
   "metadata": {},
   "outputs": [],
   "source": [
    "# to define recommendation using similarity score\n",
    "def get_recommendations(title):\n",
    "    index = df[df['song'] == title].index[0]\n",
    "    distances = similarity[index]\n",
    "    song_list = sorted(list(enumerate(distances)),reverse=True,key=lambda x:x[1])[1:6]\n",
    "    for i in song_list:\n",
    "        print(df.iloc[i[0]].song)\n",
    "    return"
   ]
  },
  {
   "cell_type": "code",
   "execution_count": 33,
   "id": "b43b1e3c",
   "metadata": {},
   "outputs": [
    {
     "name": "stdout",
     "output_type": "stream",
     "text": [
      "Brand New Me\n",
      "Good Day Sunshine\n",
      "Good Things\n",
      "This And That\n",
      "Fun Day\n"
     ]
    }
   ],
   "source": [
    "get_recommendations('Good Old Days')"
   ]
  },
  {
   "cell_type": "code",
   "execution_count": 34,
   "id": "1a75373a",
   "metadata": {},
   "outputs": [],
   "source": [
    "import pickle\n",
    "pickle.dump(similarity,open('similarity2.pkl','wb'))\n",
    "pickle.dump(df,open('df2.pkl','wb'))"
   ]
  },
  {
   "cell_type": "code",
   "execution_count": 35,
   "id": "c97112b0",
   "metadata": {},
   "outputs": [],
   "source": [
    "pickle.dump(df.to_dict(),open('df2_dict.pkl','wb'))"
   ]
  },
  {
   "cell_type": "code",
   "execution_count": null,
   "id": "d01c4d3a",
   "metadata": {},
   "outputs": [],
   "source": []
  }
 ],
 "metadata": {
  "kernelspec": {
   "display_name": "Python 3",
   "language": "python",
   "name": "python3"
  },
  "language_info": {
   "codemirror_mode": {
    "name": "ipython",
    "version": 3
   },
   "file_extension": ".py",
   "mimetype": "text/x-python",
   "name": "python",
   "nbconvert_exporter": "python",
   "pygments_lexer": "ipython3",
   "version": "3.13.2"
  }
 },
 "nbformat": 4,
 "nbformat_minor": 5
}
